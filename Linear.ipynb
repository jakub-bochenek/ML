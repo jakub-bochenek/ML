{
 "cells": [
  {
   "cell_type": "markdown",
   "metadata": {},
   "source": [
    "# Exercises\n",
    "\n",
    "There are three exercises in this notebook:\n",
    "\n",
    "1. Use the cross-validation method to test the linear regression with different $\\alpha$ values, at least three.\n",
    "2. Implement a SGD method that will train the Lasso regression for 10 epochs.\n",
    "3. Extend the Fisher's classifier to work with two features. Use the class as the $y$."
   ]
  },
  {
   "cell_type": "markdown",
   "metadata": {},
   "source": [
    "## 1. Cross-validation linear regression\n",
    "\n",
    "You need to change the variable ``alpha`` to be a list of alphas. Next do a loop and finally compare the results."
   ]
  },
  {
   "cell_type": "code",
   "execution_count": 1,
   "metadata": {},
   "outputs": [
    {
     "name": "stdout",
     "output_type": "stream",
     "text": [
      "alpha = 0.1, w = [[-101.72397081    1.16978757]]\n",
      "alpha = 0.01, w = [[-167.85534019    1.54416013]]\n",
      "alpha = 0.001, w = [[-179.52628555    1.61022985]]\n"
     ]
    }
   ],
   "source": [
    "import pandas as pd\n",
    "import numpy as np\n",
    "import matplotlib.pyplot as plt\n",
    "from sklearn.datasets import load_boston\n",
    "\n",
    "x = np.array([188, 181, 197, 168, 167, 187, 178, 194, 140, 176, 168, 192, 173, 142, 176]).reshape(-1, 1).reshape(15,1)\n",
    "y = np.array([141, 106, 149, 59, 79, 136, 65, 136, 52, 87, 115, 140, 82, 69, 121]).reshape(-1, 1).reshape(15,1)\n",
    "\n",
    "\n",
    "x = np.asmatrix(np.c_[np.ones((15,1)),x])\n",
    "\n",
    "I = np.identity(2)\n",
    "alphas = [0.1, 0.01, 0.001]\n",
    "\n",
    "for alpha in alphas: \n",
    "    w = np.linalg.inv(x.T*x + alpha * I)*x.T*y\n",
    "    w = w.ravel()\n",
    "\n",
    "    # print the results for each alpha\n",
    "    print(f\"alpha = {alpha}, w = {w}\")"
   ]
  },
  {
   "cell_type": "markdown",
   "metadata": {},
   "source": [
    "## 2. Implement based on the Ridge regression example, the Lasso regression.\n",
    "\n",
    "Please implement the SGD method and compare the results with the sklearn Lasso regression results. "
   ]
  },
  {
   "cell_type": "code",
   "execution_count": 63,
   "metadata": {},
   "outputs": [
    {
     "name": "stdout",
     "output_type": "stream",
     "text": [
      "SGD results: 0.6213872782501703 -0.21251852002443875\n"
     ]
    },
    {
     "data": {
      "image/png": "[encoded data removed]",
      "text/plain": [
       "<Figure size 432x288 with 1 Axes>"
      ]
     },
     "metadata": {
      "needs_background": "light"
     },
     "output_type": "display_data"
    }
   ],
   "source": [
    "from sklearn.linear_model import SGDRegressor\n",
    "from sklearn.linear_model import Lasso\n",
    "from sklearn.preprocessing import StandardScaler\n",
    "import matplotlib.pyplot as plt\n",
    "\n",
    "\n",
    "def SGD(X, y, lr=0.05, epoch=10, batch_size=1):\n",
    "        \n",
    "    m, b = 0.5, 0.5 \n",
    "    log, mse = [], [] \n",
    "    \n",
    "    for _ in range(epoch):\n",
    "        \n",
    "        indexes = np.random.randint(0, len(X), batch_size) # random sample\n",
    "        \n",
    "        Xs = np.take(X, indexes)\n",
    "        ys = np.take(y, indexes)\n",
    "        N = len(Xs)\n",
    "        \n",
    "        f = ys - (m*Xs + b)\n",
    "        \n",
    "        \n",
    "        m -= lr * (-2 * Xs.dot(f).sum() / N)\n",
    "        b -= lr * (-2 * f.sum() / N)    \n",
    "    \n",
    "    return m, b\n",
    "\n",
    "\n",
    "\n",
    "\n",
    "x = np.array([188, 181, 197, 168, 167, 187, 178, 194, 140, 176, 168, 192, 173, 142, 176]).reshape(-1, 1).reshape(15,1)\n",
    "y = np.array([141, 106, 149, 59, 79, 136, 65, 136, 52, 87, 115, 140, 82, 69, 121]).reshape(-1, 1).reshape(15,1)\n",
    "\n",
    "x_m = np.array([188, 181, 197, 168, 167, 187, 178, 194, 140, 176, 168, 192, 173, 142, 176]).reshape(-1, 1)\n",
    "y_m = np.array([141, 106, 149, 59, 79, 136, 65, 136, 52, 87, 115, 140, 82, 69, 121]).reshape(-1, 1)\n",
    "\n",
    "x = np.asmatrix(np.c_[np.ones((15,1)),x])\n",
    "\n",
    "\n",
    "scaler = StandardScaler()\n",
    "x = scaler.fit_transform(x)\n",
    "y = scaler.fit_transform(y)\n",
    "\n",
    "m,b = SGD(x, y,lr=0.1, epoch=50000, batch_size=2)\n",
    "print('SGD results:',m,b)\n",
    "x = scaler.inverse_transform(x)\n",
    "y = scaler.inverse_transform(y)\n",
    "\n",
    "plt.scatter(x_m, y_m)\n",
    "plt.plot(x_m, m * x_m + b, color='r')\n",
    "\n",
    "alpha = 0.1\n",
    "\n",
    "\n",
    "lasso_regression = Lasso(alpha=alpha)\n",
    "lasso_regression.fit(X=x_m, \n",
    "                      y=y_m)\n",
    "plt.scatter(x_m, y_m,color='g')\n",
    "plt.plot(x_m, lasso_regression.predict(x_m),color='k')\n",
    "\n",
    "plt.show()"
   ]
  },
  {
   "cell_type": "markdown",
   "metadata": {},
   "source": [
    "## 3. Extend the Fisher's classifier\n",
    "\n",
    "Please extend the targets of the ``iris_data`` variable and use it as the $y$."
   ]
  },
  {
   "cell_type": "code",
   "execution_count": 167,
   "metadata": {},
   "outputs": [
    {
     "name": "stdout",
     "output_type": "stream",
     "text": [
      "[ 0.64501512  1.04597696  0.88559222  0.96578459  0.56482275  0.32424565\n",
      "  0.72520749  0.72520749  1.12616932  0.96578459  0.48463039  0.72520749\n",
      "  1.04597696  1.04597696  0.24405328 -0.07671619  0.32424565  0.64501512\n",
      "  0.40443802  0.40443802  0.72520749  0.48463039  0.56482275  0.80539985\n",
      "  0.72520749  1.04597696  0.72520749  0.64501512  0.72520749  0.88559222\n",
      "  0.96578459  0.72520749  0.16386092  0.08366855  0.96578459  0.88559222\n",
      "  0.64501512  0.56482275  1.04597696  0.72520749  0.64501512  1.60732353\n",
      "  0.88559222  0.64501512  0.40443802  1.04597696  0.40443802  0.88559222\n",
      "  0.48463039  0.80539985  0.88559222  0.88559222  0.96578459  1.60732353\n",
      "  1.20636169  1.20636169  0.80539985  1.52713116  1.12616932  1.28655406\n",
      "  1.84790063  1.04597696  1.6875159   1.12616932  1.12616932  0.96578459\n",
      "  1.04597696  1.28655406  1.6875159   1.44693879  0.88559222  1.20636169\n",
      "  1.44693879  1.20636169  1.12616932  1.04597696  1.20636169  1.04597696\n",
      "  1.12616932  1.36674643  1.52713116  1.52713116  1.28655406  1.28655406\n",
      "  1.04597696  0.72520749  0.96578459  1.60732353  1.04597696  1.44693879\n",
      "  1.36674643  1.04597696  1.36674643  1.60732353  1.28655406  1.04597696\n",
      "  1.12616932  1.12616932  1.44693879  1.20636169  0.80539985  1.28655406\n",
      "  1.04597696  1.12616932  1.04597696  1.04597696  1.44693879  1.12616932\n",
      "  1.44693879  0.56482275  0.88559222  1.28655406  1.04597696  1.44693879\n",
      "  1.20636169  0.88559222  1.04597696  0.40443802  1.36674643  1.6875159\n",
      "  0.88559222  1.20636169  1.20636169  1.28655406  0.80539985  0.88559222\n",
      "  1.20636169  1.04597696  1.20636169  1.04597696  1.20636169  0.40443802\n",
      "  1.20636169  1.20636169  1.36674643  1.04597696  0.72520749  0.96578459\n",
      "  1.04597696  0.96578459  0.96578459  0.96578459  1.28655406  0.88559222\n",
      "  0.80539985  1.04597696  1.44693879  1.04597696  0.72520749  1.04597696]\n",
      "\n"
     ]
    }
   ],
   "source": [
    "import pandas as pd\n",
    "import numpy as np\n",
    "import matplotlib.pyplot as plt\n",
    "from sklearn.datasets import load_iris\n",
    "\n",
    "iris_data = load_iris()\n",
    "iris_df = pd.DataFrame(iris_data.data, columns=iris_data.feature_names)\n",
    "\n",
    "x = np.c_[iris_df['sepal width (cm)'].values,iris_df['petal width (cm)'].values]\n",
    "x = np.c_[iris_df['sepal width (cm)'].values,iris_df['petal width (cm)'].values]\n",
    "\n",
    "dataset_size = np.size(x)\n",
    "\n",
    "mean_x, mean_y = np.mean(x), np.mean(y)\n",
    "\n",
    "SS_xy = np.sum(y * x) - dataset_size * mean_y * mean_x\n",
    "SS_xx = np.sum(x * x) - dataset_size * mean_x * mean_x\n",
    "\n",
    "a = SS_xy / SS_xx\n",
    "b = mean_y - a * mean_x\n",
    "\n",
    "y_pred = a * x + b\n",
    "print(y_pred)\n",
    "print()"
   ]
  },
  {
   "cell_type": "code",
   "execution_count": null,
   "metadata": {},
   "outputs": [],
   "source": []
  }
 ],
 "metadata": {
  "kernelspec": {
   "display_name": "Python 3",
   "language": "python",
   "name": "python3"
  },
  "language_info": {
   "codemirror_mode": {
    "name": "ipython",
    "version": 3
   },
   "file_extension": ".py",
   "mimetype": "text/x-python",
   "name": "python",
   "nbconvert_exporter": "python",
   "pygments_lexer": "ipython3",
   "version": "3.6.9"
  }
 },
 "nbformat": 4,
 "nbformat_minor": 4
}
